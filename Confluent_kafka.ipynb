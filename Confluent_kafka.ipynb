{
  "cells": [
    {
      "cell_type": "markdown",
      "metadata": {
        "id": "view-in-github",
        "colab_type": "text"
      },
      "source": [
        "<a href=\"https://colab.research.google.com/github/amit51910636/DataScience/blob/main/Confluent_kafka.ipynb\" target=\"_parent\"><img src=\"https://colab.research.google.com/assets/colab-badge.svg\" alt=\"Open In Colab\"/></a>"
      ]
    },
    {
      "cell_type": "code",
      "execution_count": null,
      "metadata": {
        "colab": {
          "base_uri": "https://localhost:8080/"
        },
        "id": "2d5F9Usvndwr",
        "outputId": "aef3efe1-ddd6-438e-feb3-d3ed72124cc4"
      },
      "outputs": [
        {
          "name": "stdout",
          "output_type": "stream",
          "text": [
            "Collecting confluent-kafka\n",
            "  Downloading confluent_kafka-2.10.0-cp311-cp311-manylinux_2_28_x86_64.whl.metadata (22 kB)\n",
            "Downloading confluent_kafka-2.10.0-cp311-cp311-manylinux_2_28_x86_64.whl (3.8 MB)\n",
            "\u001b[2K   \u001b[90m━━━━━━━━━━━━━━━━━━━━━━━━━━━━━━━━━━━━━━━━\u001b[0m \u001b[32m3.8/3.8 MB\u001b[0m \u001b[31m20.8 MB/s\u001b[0m eta \u001b[36m0:00:00\u001b[0m\n",
            "\u001b[?25hInstalling collected packages: confluent-kafka\n",
            "Successfully installed confluent-kafka-2.10.0\n"
          ]
        }
      ],
      "source": [
        "!pip install confluent-kafka"
      ]
    },
    {
      "cell_type": "code",
      "execution_count": null,
      "metadata": {
        "colab": {
          "base_uri": "https://localhost:8080/",
          "height": 106
        },
        "id": "1V68BT_sntA8",
        "outputId": "390f1aa8-e0ba-4c57-af95-e33caa39a0ef"
      },
      "outputs": [
        {
          "ename": "SyntaxError",
          "evalue": "invalid decimal literal (<ipython-input-2-1000ead08a48>, line 2)",
          "output_type": "error",
          "traceback": [
            "\u001b[0;36m  File \u001b[0;32m\"<ipython-input-2-1000ead08a48>\"\u001b[0;36m, line \u001b[0;32m2\u001b[0m\n\u001b[0;31m    bootstrap.servers=pkc-619z3.us-east1.gcp.confluent.cloud:9092\u001b[0m\n\u001b[0m                            ^\u001b[0m\n\u001b[0;31mSyntaxError\u001b[0m\u001b[0;31m:\u001b[0m invalid decimal literal\n"
          ]
        }
      ],
      "source": [
        "# Required connection configs for Kafka producer, consumer, and admin\n",
        "bootstrap.servers=pkc-619z3.us-east1.gcp.confluent.cloud:9092\n",
        "security.protocol=SASL_SSL\n",
        "sasl.mechanisms=PLAIN\n",
        "sasl.username=BVDQLUUYCEQ2B36K\n",
        "sasl.password=wKsvL2/e4Vu260owTCH8+z2f6BbRp6K5ylPPgXHNXwPtrNGpFYWh7nOtJ8PmsRnx\n",
        "\n",
        "# Best practice for higher availability in librdkafka clients prior to 1.7\n",
        "session.timeout.ms=45000\n",
        "\n",
        "client.id=ccloud-python-client-37d62a4e-b48b-4f3c-ac2c-761be0dd52df\n"
      ]
    },
    {
      "cell_type": "code",
      "execution_count": null,
      "metadata": {
        "colab": {
          "base_uri": "https://localhost:8080/"
        },
        "id": "mJtWaGL2ojYt",
        "outputId": "667f6de4-a128-4d07-fc7c-e6845fd7db2e"
      },
      "outputs": [
        {
          "name": "stdout",
          "output_type": "stream",
          "text": [
            "Produced message to topic topic_0: key = key          value = value       \n",
            "Consumed message from topic topic_0: key = key          value = value       \n",
            "Consumed message from topic topic_0: key = 123          value = {}          \n"
          ]
        }
      ],
      "source": [
        "from confluent_kafka import Producer, Consumer\n",
        "\n",
        "def read_config():\n",
        "  # reads the client configuration from client.properties\n",
        "  # and returns it as a key-value map\n",
        "  config = {}\n",
        "  with open(\"client.properties\") as fh:\n",
        "    for line in fh:\n",
        "      line = line.strip()\n",
        "      if len(line) != 0 and line[0] != \"#\":\n",
        "        parameter, value = line.strip().split('=', 1)\n",
        "        config[parameter] = value.strip()\n",
        "  return config\n",
        "\n",
        "def produce(topic, config):\n",
        "  # creates a new producer instance\n",
        "  producer = Producer(config)\n",
        "\n",
        "  # produces a sample message\n",
        "  key = \"key\"\n",
        "  value = \"value\"\n",
        "  producer.produce(topic, key=key, value=value)\n",
        "  print(f\"Produced message to topic {topic}: key = {key:12} value = {value:12}\")\n",
        "\n",
        "  # send any outstanding or buffered messages to the Kafka broker\n",
        "  producer.flush()\n",
        "\n",
        "def consume(topic, config):\n",
        "  # sets the consumer group ID and offset\n",
        "  config[\"group.id\"] = \"python-group-1\"\n",
        "  config[\"auto.offset.reset\"] = \"earliest\"\n",
        "\n",
        "  # creates a new consumer instance\n",
        "  consumer = Consumer(config)\n",
        "\n",
        "  # subscribes to the specified topic\n",
        "  consumer.subscribe([topic])\n",
        "\n",
        "  try:\n",
        "    while True:\n",
        "      # consumer polls the topic and prints any incoming messages\n",
        "      msg = consumer.poll(1.0)\n",
        "      if msg is not None and msg.error() is None:\n",
        "        key = msg.key().decode(\"utf-8\")\n",
        "        value = msg.value().decode(\"utf-8\")\n",
        "        print(f\"Consumed message from topic {topic}: key = {key:12} value = {value:12}\")\n",
        "  except KeyboardInterrupt:\n",
        "    pass\n",
        "  finally:\n",
        "    # closes the consumer connection\n",
        "    consumer.close()\n",
        "\n",
        "def main():\n",
        "  config = read_config()\n",
        "  topic = \"topic_0\"\n",
        "\n",
        "  produce(topic, config)\n",
        "  consume(topic, config)\n",
        "\n",
        "\n",
        "main()"
      ]
    },
    {
      "cell_type": "code",
      "execution_count": null,
      "metadata": {
        "colab": {
          "base_uri": "https://localhost:8080/"
        },
        "id": "nPi6WrWaorVl",
        "outputId": "6e7d14b8-35ec-4c05-8f7d-ce331305d7f0"
      },
      "outputs": [
        {
          "name": "stdout",
          "output_type": "stream",
          "text": [
            "Message delivered to topic_0[2]\n"
          ]
        },
        {
          "data": {
            "text/plain": [
              "0"
            ]
          },
          "execution_count": 5,
          "metadata": {},
          "output_type": "execute_result"
        }
      ],
      "source": [
        "from confluent_kafka import Producer\n",
        "\n",
        "# Required connection configs for Kafka producer, consumer, and admin\n",
        "conf = {\n",
        "    'bootstrap.servers': 'pkc-619z3.us-east1.gcp.confluent.cloud:9092',\n",
        "    'security.protocol': 'SASL_SSL',\n",
        "    'sasl.mechanisms': 'PLAIN',\n",
        "    'sasl.username': 'BVDQLUUYCEQ2B36K',\n",
        "    'sasl.password': 'wKsvL2/e4Vu260owTCH8+z2f6BbRp6K5ylPPgXHNXwPtrNGpFYWh7nOtJ8PmsRnx',\n",
        "    'session.timeout.ms': 45000,  # Best practice for higher availability\n",
        "    'client.id': 'ccloud-python-client-37d62a4e-b48b-4f3c-ac2c-761be0dd52df'\n",
        "}\n",
        "\n",
        "producer = Producer(conf)\n",
        "\n",
        "# Example message delivery callback\n",
        "def delivery_callback(err, msg):\n",
        "    if err:\n",
        "        print(f\"Message delivery failed: {err}\")\n",
        "    else:\n",
        "        print(f\"Message delivered to {msg.topic()}[{msg.partition()}]\")\n",
        "\n",
        "# Produce messages\n",
        "topic = \"topic_0\"  # Replace with your topic name\n",
        "message = \"Hello, Kafka User!\"\n",
        "\n",
        "producer.produce(topic, message.encode('utf-8'), callback=delivery_callback)\n",
        "\n",
        "# Wait for any outstanding messages to be delivered and delivery reports to be received\n",
        "producer.flush()\n"
      ]
    },
    {
      "cell_type": "code",
      "execution_count": null,
      "metadata": {
        "colab": {
          "background_save": true,
          "base_uri": "https://localhost:8080/"
        },
        "id": "dogpiv79qTwV",
        "outputId": "5b2c994e-ae3e-41c9-971d-6e9bdb2cd22a"
      },
      "outputs": [
        {
          "name": "stdout",
          "output_type": "stream",
          "text": [
            "Received message: {'customer_id': '18', 'name': 'Customer_18', 'city': 'Pune', 'state': 'Delhi', 'country': 'India', 'registration_date': '2023-10-04', 'is_active': 'True'}\n",
            "Received message: {'customer_id': '20', 'name': 'Customer_20', 'city': 'Hyderabad', 'state': 'Telangana', 'country': 'India', 'registration_date': '2023-01-01', 'is_active': 'True'}\n",
            "Received message: {'customer_id': '26', 'name': 'Customer_26', 'city': 'Delhi', 'state': 'Delhi', 'country': 'India', 'registration_date': '2023-03-22', 'is_active': 'True'}\n",
            "Received message: {'customer_id': '36', 'name': 'Customer_36', 'city': 'Ahmedabad', 'state': 'Tamil Nadu', 'country': 'India', 'registration_date': '2023-10-07', 'is_active': 'True'}\n",
            "Received message: {'customer_id': '42', 'name': 'Customer_42', 'city': 'Bangalore', 'state': 'Gujarat', 'country': 'India', 'registration_date': '2023-08-11', 'is_active': 'True'}\n",
            "Received message: {'customer_id': '43', 'name': 'Customer_43', 'city': 'Hyderabad', 'state': 'Tamil Nadu', 'country': 'India', 'registration_date': '2023-11-21', 'is_active': 'True'}\n",
            "Received message: {'customer_id': '44', 'name': 'Customer_44', 'city': 'Pune', 'state': 'Gujarat', 'country': 'India', 'registration_date': '2023-04-01', 'is_active': 'True'}\n",
            "Received message: {'customer_id': '46', 'name': 'Customer_46', 'city': 'Kolkata', 'state': 'Delhi', 'country': 'India', 'registration_date': '2023-09-23', 'is_active': 'True'}\n",
            "Received message: {'customer_id': '49', 'name': 'Customer_49', 'city': 'Delhi', 'state': 'Gujarat', 'country': 'India', 'registration_date': '2023-04-16', 'is_active': 'True'}\n",
            "Received message: {'customer_id': '50', 'name': 'Customer_50', 'city': 'Kolkata', 'state': 'Tamil Nadu', 'country': 'India', 'registration_date': '2023-09-10', 'is_active': 'True'}\n",
            "Received message: {'customer_id': '60', 'name': 'Customer_60', 'city': 'Mumbai', 'state': 'Tamil Nadu', 'country': 'India', 'registration_date': '2023-12-01', 'is_active': 'True'}\n",
            "Received message: {'customer_id': '62', 'name': 'Customer_62', 'city': 'Delhi', 'state': 'Maharashtra', 'country': 'India', 'registration_date': '2023-04-12', 'is_active': 'True'}\n",
            "Received message: {'customer_id': '66', 'name': 'Customer_66', 'city': 'Pune', 'state': 'Tamil Nadu', 'country': 'India', 'registration_date': '2023-12-02', 'is_active': 'True'}\n",
            "Received message: {'customer_id': '68', 'name': 'Customer_68', 'city': 'Kolkata', 'state': 'Gujarat', 'country': 'India', 'registration_date': '2023-07-17', 'is_active': 'False'}\n",
            "Received message: {'customer_id': '73', 'name': 'Customer_73', 'city': 'Chennai', 'state': 'West Bengal', 'country': 'India', 'registration_date': '2023-03-01', 'is_active': 'False'}\n",
            "Received message: {'customer_id': '87', 'name': 'Customer_87', 'city': 'Pune', 'state': 'Karnataka', 'country': 'India', 'registration_date': '2023-10-06', 'is_active': 'False'}\n",
            "Received message: {'customer_id': '89', 'name': 'Customer_89', 'city': 'Delhi', 'state': 'Gujarat', 'country': 'India', 'registration_date': '2023-10-28', 'is_active': 'True'}\n",
            "Received message: {'customer_id': '96', 'name': 'Customer_96', 'city': 'Ahmedabad', 'state': 'Telangana', 'country': 'India', 'registration_date': '2023-06-22', 'is_active': 'False'}\n",
            "Received message: {'customer_id': '97', 'name': 'Customer_97', 'city': 'Pune', 'state': 'Maharashtra', 'country': 'India', 'registration_date': '2023-10-31', 'is_active': 'True'}\n",
            "Received message: {'customer_id': '6', 'name': 'Customer_6', 'city': 'Pune', 'state': 'Delhi', 'country': 'India', 'registration_date': '2023-08-29', 'is_active': 'False'}\n",
            "Received message: {'customer_id': '21', 'name': 'Customer_21', 'city': 'Bangalore', 'state': 'Tamil Nadu', 'country': 'India', 'registration_date': '2023-05-30', 'is_active': 'True'}\n",
            "Received message: {'customer_id': '22', 'name': 'Customer_22', 'city': 'Chennai', 'state': 'West Bengal', 'country': 'India', 'registration_date': '2023-08-03', 'is_active': 'True'}\n",
            "Received message: {'customer_id': '27', 'name': 'Customer_27', 'city': 'Ahmedabad', 'state': 'Gujarat', 'country': 'India', 'registration_date': '2023-07-08', 'is_active': 'True'}\n",
            "Received message: {'customer_id': '29', 'name': 'Customer_29', 'city': 'Delhi', 'state': 'Gujarat', 'country': 'India', 'registration_date': '2023-05-28', 'is_active': 'False'}\n",
            "Received message: {'customer_id': '48', 'name': 'Customer_48', 'city': 'Ahmedabad', 'state': 'Tamil Nadu', 'country': 'India', 'registration_date': '2023-11-16', 'is_active': 'True'}\n",
            "Received message: {'customer_id': '53', 'name': 'Customer_53', 'city': 'Pune', 'state': 'Telangana', 'country': 'India', 'registration_date': '2023-08-27', 'is_active': 'True'}\n",
            "Received message: {'customer_id': '54', 'name': 'Customer_54', 'city': 'Kolkata', 'state': 'Delhi', 'country': 'India', 'registration_date': '2023-12-13', 'is_active': 'False'}\n",
            "Received message: {'customer_id': '57', 'name': 'Customer_57', 'city': 'Kolkata', 'state': 'Gujarat', 'country': 'India', 'registration_date': '2023-08-06', 'is_active': 'False'}\n",
            "Received message: {'customer_id': '69', 'name': 'Customer_69', 'city': 'Pune', 'state': 'Tamil Nadu', 'country': 'India', 'registration_date': '2023-01-16', 'is_active': 'True'}\n",
            "Received message: {'customer_id': '70', 'name': 'Customer_70', 'city': 'Kolkata', 'state': 'West Bengal', 'country': 'India', 'registration_date': '2023-11-06', 'is_active': 'True'}\n",
            "Received message: {'customer_id': '71', 'name': 'Customer_71', 'city': 'Mumbai', 'state': 'West Bengal', 'country': 'India', 'registration_date': '2023-12-19', 'is_active': 'True'}\n",
            "Received message: {'customer_id': '81', 'name': 'Customer_81', 'city': 'Chennai', 'state': 'West Bengal', 'country': 'India', 'registration_date': '2023-08-22', 'is_active': 'True'}\n",
            "Received message: {'customer_id': '5', 'name': 'Customer_5', 'city': 'Hyderabad', 'state': 'Karnataka', 'country': 'India', 'registration_date': '2023-07-28', 'is_active': 'False'}\n",
            "Received message: {'customer_id': '10', 'name': 'Customer_10', 'city': 'Pune', 'state': 'Gujarat', 'country': 'India', 'registration_date': '2023-08-05', 'is_active': 'True'}\n",
            "Received message: {'customer_id': '13', 'name': 'Customer_13', 'city': 'Chennai', 'state': 'Karnataka', 'country': 'India', 'registration_date': '2023-11-06', 'is_active': 'True'}\n",
            "Received message: {'customer_id': '17', 'name': 'Customer_17', 'city': 'Hyderabad', 'state': 'West Bengal', 'country': 'India', 'registration_date': '2023-08-21', 'is_active': 'False'}\n",
            "Received message: {'customer_id': '25', 'name': 'Customer_25', 'city': 'Pune', 'state': 'Tamil Nadu', 'country': 'India', 'registration_date': '2023-01-06', 'is_active': 'False'}\n",
            "Received message: {'customer_id': '35', 'name': 'Customer_35', 'city': 'Pune', 'state': 'Karnataka', 'country': 'India', 'registration_date': '2023-07-31', 'is_active': 'False'}\n",
            "Received message: {'customer_id': '55', 'name': 'Customer_55', 'city': 'Pune', 'state': 'Telangana', 'country': 'India', 'registration_date': '2023-12-07', 'is_active': 'True'}\n",
            "Received message: {'customer_id': '76', 'name': 'Customer_76', 'city': 'Kolkata', 'state': 'Delhi', 'country': 'India', 'registration_date': '2023-01-08', 'is_active': 'False'}\n",
            "Received message: {'customer_id': '77', 'name': 'Customer_77', 'city': 'Pune', 'state': 'Telangana', 'country': 'India', 'registration_date': '2023-12-07', 'is_active': 'True'}\n",
            "Received message: {'customer_id': '80', 'name': 'Customer_80', 'city': 'Ahmedabad', 'state': 'West Bengal', 'country': 'India', 'registration_date': '2023-03-25', 'is_active': 'False'}\n",
            "Received message: {'customer_id': '3', 'name': 'Customer_3', 'city': 'Bangalore', 'state': 'Karnataka', 'country': 'India', 'registration_date': '2023-10-17', 'is_active': 'False'}\n",
            "Received message: {'customer_id': '7', 'name': 'Customer_7', 'city': 'Ahmedabad', 'state': 'West Bengal', 'country': 'India', 'registration_date': '2023-12-28', 'is_active': 'True'}\n",
            "Received message: {'customer_id': '12', 'name': 'Customer_12', 'city': 'Chennai', 'state': 'Gujarat', 'country': 'India', 'registration_date': '2023-11-21', 'is_active': 'False'}\n",
            "Received message: {'customer_id': '14', 'name': 'Customer_14', 'city': 'Hyderabad', 'state': 'Tamil Nadu', 'country': 'India', 'registration_date': '2023-02-07', 'is_active': 'False'}\n",
            "Received message: {'customer_id': '16', 'name': 'Customer_16', 'city': 'Chennai', 'state': 'Karnataka', 'country': 'India', 'registration_date': '2023-04-05', 'is_active': 'False'}\n",
            "Received message: {'customer_id': '19', 'name': 'Customer_19', 'city': 'Kolkata', 'state': 'Gujarat', 'country': 'India', 'registration_date': '2023-02-05', 'is_active': 'True'}\n",
            "Received message: {'customer_id': '23', 'name': 'Customer_23', 'city': 'Chennai', 'state': 'Maharashtra', 'country': 'India', 'registration_date': '2023-02-15', 'is_active': 'False'}\n",
            "Received message: {'customer_id': '24', 'name': 'Customer_24', 'city': 'Kolkata', 'state': 'Karnataka', 'country': 'India', 'registration_date': '2023-03-06', 'is_active': 'False'}\n",
            "Received message: {'customer_id': '30', 'name': 'Customer_30', 'city': 'Hyderabad', 'state': 'Karnataka', 'country': 'India', 'registration_date': '2023-01-28', 'is_active': 'False'}\n",
            "Received message: {'customer_id': '39', 'name': 'Customer_39', 'city': 'Pune', 'state': 'Tamil Nadu', 'country': 'India', 'registration_date': '2023-12-14', 'is_active': 'False'}\n",
            "Received message: {'customer_id': '40', 'name': 'Customer_40', 'city': 'Pune', 'state': 'West Bengal', 'country': 'India', 'registration_date': '2023-01-15', 'is_active': 'False'}\n",
            "Received message: {'customer_id': '41', 'name': 'Customer_41', 'city': 'Bangalore', 'state': 'Karnataka', 'country': 'India', 'registration_date': '2023-03-28', 'is_active': 'False'}\n",
            "Received message: {'customer_id': '51', 'name': 'Customer_51', 'city': 'Ahmedabad', 'state': 'Tamil Nadu', 'country': 'India', 'registration_date': '2023-07-18', 'is_active': 'True'}\n",
            "Received message: {'customer_id': '75', 'name': 'Customer_75', 'city': 'Hyderabad', 'state': 'Telangana', 'country': 'India', 'registration_date': '2023-11-05', 'is_active': 'True'}\n",
            "Received message: {'customer_id': '79', 'name': 'Customer_79', 'city': 'Pune', 'state': 'Telangana', 'country': 'India', 'registration_date': '2023-02-06', 'is_active': 'True'}\n",
            "Received message: {'customer_id': '85', 'name': 'Customer_85', 'city': 'Chennai', 'state': 'Gujarat', 'country': 'India', 'registration_date': '2023-07-30', 'is_active': 'True'}\n",
            "Received message: {'customer_id': '1', 'name': 'Customer_1', 'city': 'Bangalore', 'state': 'Tamil Nadu', 'country': 'India', 'registration_date': '2023-12-07', 'is_active': 'True'}\n",
            "Received message: {'customer_id': '8', 'name': 'Customer_8', 'city': 'Pune', 'state': 'Karnataka', 'country': 'India', 'registration_date': '2023-06-22', 'is_active': 'True'}\n",
            "Received message: {'customer_id': '9', 'name': 'Customer_9', 'city': 'Mumbai', 'state': 'Telangana', 'country': 'India', 'registration_date': '2023-01-05', 'is_active': 'True'}\n",
            "Received message: {'customer_id': '15', 'name': 'Customer_15', 'city': 'Mumbai', 'state': 'Gujarat', 'country': 'India', 'registration_date': '2023-03-02', 'is_active': 'True'}\n",
            "Received message: {'customer_id': '28', 'name': 'Customer_28', 'city': 'Hyderabad', 'state': 'Maharashtra', 'country': 'India', 'registration_date': '2023-05-31', 'is_active': 'True'}\n",
            "Received message: {'customer_id': '32', 'name': 'Customer_32', 'city': 'Delhi', 'state': 'Telangana', 'country': 'India', 'registration_date': '2023-05-15', 'is_active': 'False'}\n",
            "Received message: {'customer_id': '33', 'name': 'Customer_33', 'city': 'Mumbai', 'state': 'West Bengal', 'country': 'India', 'registration_date': '2023-09-11', 'is_active': 'False'}\n",
            "Received message: {'customer_id': '34', 'name': 'Customer_34', 'city': 'Kolkata', 'state': 'Gujarat', 'country': 'India', 'registration_date': '2023-11-01', 'is_active': 'True'}\n",
            "Received message: {'customer_id': '37', 'name': 'Customer_37', 'city': 'Hyderabad', 'state': 'Karnataka', 'country': 'India', 'registration_date': '2023-03-21', 'is_active': 'True'}\n",
            "Received message: {'customer_id': '45', 'name': 'Customer_45', 'city': 'Chennai', 'state': 'Maharashtra', 'country': 'India', 'registration_date': '2023-11-12', 'is_active': 'False'}\n",
            "Received message: {'customer_id': '61', 'name': 'Customer_61', 'city': 'Hyderabad', 'state': 'Delhi', 'country': 'India', 'registration_date': '2023-12-31', 'is_active': 'False'}\n",
            "Received message: {'customer_id': '63', 'name': 'Customer_63', 'city': 'Mumbai', 'state': 'Karnataka', 'country': 'India', 'registration_date': '2023-05-23', 'is_active': 'True'}\n",
            "Received message: {'customer_id': '65', 'name': 'Customer_65', 'city': 'Delhi', 'state': 'Telangana', 'country': 'India', 'registration_date': '2023-03-11', 'is_active': 'True'}\n",
            "Received message: {'customer_id': '67', 'name': 'Customer_67', 'city': 'Hyderabad', 'state': 'Gujarat', 'country': 'India', 'registration_date': '2023-03-06', 'is_active': 'False'}\n",
            "Received message: {'customer_id': '78', 'name': 'Customer_78', 'city': 'Bangalore', 'state': 'Maharashtra', 'country': 'India', 'registration_date': '2023-03-31', 'is_active': 'False'}\n",
            "Received message: {'customer_id': '82', 'name': 'Customer_82', 'city': 'Kolkata', 'state': 'Delhi', 'country': 'India', 'registration_date': '2023-09-07', 'is_active': 'False'}\n",
            "Received message: {'customer_id': '83', 'name': 'Customer_83', 'city': 'Pune', 'state': 'Telangana', 'country': 'India', 'registration_date': '2023-08-28', 'is_active': 'True'}\n",
            "Received message: {'customer_id': '90', 'name': 'Customer_90', 'city': 'Ahmedabad', 'state': 'Gujarat', 'country': 'India', 'registration_date': '2023-02-15', 'is_active': 'False'}\n",
            "Received message: {'customer_id': '91', 'name': 'Customer_91', 'city': 'Mumbai', 'state': 'Telangana', 'country': 'India', 'registration_date': '2023-01-02', 'is_active': 'False'}\n",
            "Received message: {'customer_id': '92', 'name': 'Customer_92', 'city': 'Kolkata', 'state': 'Delhi', 'country': 'India', 'registration_date': '2023-06-25', 'is_active': 'True'}\n",
            "Received message: {'customer_id': '94', 'name': 'Customer_94', 'city': 'Chennai', 'state': 'Maharashtra', 'country': 'India', 'registration_date': '2023-04-28', 'is_active': 'False'}\n",
            "Received message: {'customer_id': '95', 'name': 'Customer_95', 'city': 'Mumbai', 'state': 'Karnataka', 'country': 'India', 'registration_date': '2023-09-29', 'is_active': 'True'}\n",
            "Received message: {'customer_id': '98', 'name': 'Customer_98', 'city': 'Pune', 'state': 'West Bengal', 'country': 'India', 'registration_date': '2023-06-01', 'is_active': 'True'}\n",
            "Received message: {'customer_id': '0', 'name': 'Customer_0', 'city': 'Pune', 'state': 'Maharashtra', 'country': 'India', 'registration_date': '2023-06-29', 'is_active': 'False'}\n",
            "Received message: {'customer_id': '2', 'name': 'Customer_2', 'city': 'Hyderabad', 'state': 'Gujarat', 'country': 'India', 'registration_date': '2023-10-27', 'is_active': 'True'}\n",
            "Received message: {'customer_id': '4', 'name': 'Customer_4', 'city': 'Ahmedabad', 'state': 'Karnataka', 'country': 'India', 'registration_date': '2023-03-14', 'is_active': 'False'}\n",
            "Received message: {'customer_id': '11', 'name': 'Customer_11', 'city': 'Delhi', 'state': 'West Bengal', 'country': 'India', 'registration_date': '2023-08-02', 'is_active': 'False'}\n",
            "Received message: {'customer_id': '31', 'name': 'Customer_31', 'city': 'Kolkata', 'state': 'Tamil Nadu', 'country': 'India', 'registration_date': '2023-06-14', 'is_active': 'False'}\n",
            "Received message: {'customer_id': '38', 'name': 'Customer_38', 'city': 'Bangalore', 'state': 'Telangana', 'country': 'India', 'registration_date': '2023-09-26', 'is_active': 'False'}\n",
            "Received message: {'customer_id': '47', 'name': 'Customer_47', 'city': 'Kolkata', 'state': 'Telangana', 'country': 'India', 'registration_date': '2023-11-03', 'is_active': 'True'}\n",
            "Received message: {'customer_id': '52', 'name': 'Customer_52', 'city': 'Ahmedabad', 'state': 'Karnataka', 'country': 'India', 'registration_date': '2023-02-25', 'is_active': 'True'}\n",
            "Received message: {'customer_id': '56', 'name': 'Customer_56', 'city': 'Delhi', 'state': 'Karnataka', 'country': 'India', 'registration_date': '2023-12-29', 'is_active': 'False'}\n",
            "Received message: {'customer_id': '58', 'name': 'Customer_58', 'city': 'Kolkata', 'state': 'Tamil Nadu', 'country': 'India', 'registration_date': '2023-07-31', 'is_active': 'True'}\n",
            "Received message: {'customer_id': '59', 'name': 'Customer_59', 'city': 'Ahmedabad', 'state': 'Telangana', 'country': 'India', 'registration_date': '2023-07-08', 'is_active': 'True'}\n",
            "Received message: {'customer_id': '64', 'name': 'Customer_64', 'city': 'Chennai', 'state': 'Maharashtra', 'country': 'India', 'registration_date': '2023-10-12', 'is_active': 'False'}\n",
            "Received message: {'customer_id': '72', 'name': 'Customer_72', 'city': 'Mumbai', 'state': 'Maharashtra', 'country': 'India', 'registration_date': '2023-09-20', 'is_active': 'False'}\n",
            "Received message: {'customer_id': '74', 'name': 'Customer_74', 'city': 'Chennai', 'state': 'Gujarat', 'country': 'India', 'registration_date': '2023-01-10', 'is_active': 'False'}\n",
            "Received message: {'customer_id': '84', 'name': 'Customer_84', 'city': 'Pune', 'state': 'Delhi', 'country': 'India', 'registration_date': '2023-04-14', 'is_active': 'False'}\n",
            "Received message: {'customer_id': '86', 'name': 'Customer_86', 'city': 'Ahmedabad', 'state': 'Maharashtra', 'country': 'India', 'registration_date': '2023-08-13', 'is_active': 'False'}\n",
            "Received message: {'customer_id': '88', 'name': 'Customer_88', 'city': 'Pune', 'state': 'Telangana', 'country': 'India', 'registration_date': '2023-06-15', 'is_active': 'True'}\n",
            "Received message: {'customer_id': '93', 'name': 'Customer_93', 'city': 'Pune', 'state': 'West Bengal', 'country': 'India', 'registration_date': '2023-09-30', 'is_active': 'False'}\n",
            "Received message: {\"ProductA\":\"Some Product Name\",\"Quantity\":2,\"Price\":25.99}\n",
            "Received message: {\"Course\":\"Big Data\",\"Tutor\":\"Mayank\",\"Time\":8}\n"
          ]
        }
      ],
      "source": [
        "# prompt: can you now give me the code to consume the message from above kafka cluster\n",
        "\n",
        "from confluent_kafka import Consumer\n",
        "\n",
        "conf = {\n",
        "    'bootstrap.servers': 'pkc-619z3.us-east1.gcp.confluent.cloud:9092',\n",
        "    'security.protocol': 'SASL_SSL',\n",
        "    'sasl.mechanisms': 'PLAIN',\n",
        "    'sasl.username': 'BVDQLUUYCEQ2B36K',\n",
        "    'sasl.password': 'wKsvL2/e4Vu260owTCH8+z2f6BbRp6K5ylPPgXHNXwPtrNGpFYWh7nOtJ8PmsRnx',\n",
        "    'group.id': 'my_group',  # Set a consumer group ID\n",
        "    'auto.offset.reset': 'earliest' # Start consuming from the beginning of the topic\n",
        "}\n",
        "\n",
        "consumer = Consumer(conf)\n",
        "consumer.subscribe([\"topic_0\"]) # Replace with your topic name\n",
        "\n",
        "try:\n",
        "    while True:\n",
        "        msg = consumer.poll(1.0)\n",
        "        if msg is None:\n",
        "            continue\n",
        "        if msg.error():\n",
        "            print(f\"Consumer error: {msg.error()}\")\n",
        "            continue\n",
        "\n",
        "        print(f\"Received message: {msg.value().decode('utf-8')}\")\n",
        "\n",
        "except KeyboardInterrupt:\n",
        "    pass\n",
        "\n",
        "finally:\n",
        "    consumer.close()\n"
      ]
    },
    {
      "cell_type": "code",
      "execution_count": null,
      "metadata": {
        "id": "c6fRdWUmt141"
      },
      "outputs": [],
      "source": []
    },
    {
      "cell_type": "code",
      "execution_count": null,
      "metadata": {
        "colab": {
          "base_uri": "https://localhost:8080/"
        },
        "id": "7lAs3AMIrTJ9",
        "outputId": "dc3a234f-bee4-40d5-fe81-e822cb5e1bdd"
      },
      "outputs": [
        {
          "name": "stdout",
          "output_type": "stream",
          "text": [
            "Message delivered to topic_0 [2]\n",
            "Message delivered to topic_0 [2]\n",
            "Message delivered to topic_0 [2]\n",
            "Message delivered to topic_0 [2]\n",
            "Message delivered to topic_0 [2]\n",
            "Message delivered to topic_0 [2]\n",
            "Message delivered to topic_0 [2]\n",
            "Message delivered to topic_0 [2]\n",
            "Message delivered to topic_0 [2]\n",
            "Message delivered to topic_0 [2]\n",
            "Message delivered to topic_0 [0]\n",
            "Message delivered to topic_0 [0]\n",
            "Message delivered to topic_0 [0]\n",
            "Message delivered to topic_0 [0]\n",
            "Message delivered to topic_0 [0]\n",
            "Message delivered to topic_0 [0]\n",
            "Message delivered to topic_0 [0]\n",
            "Message delivered to topic_0 [0]\n",
            "Message delivered to topic_0 [0]\n",
            "Message delivered to topic_0 [0]\n",
            "Message delivered to topic_0 [0]\n",
            "Message delivered to topic_0 [0]\n",
            "Message delivered to topic_0 [0]\n",
            "Message delivered to topic_0 [0]\n",
            "Message delivered to topic_0 [0]\n",
            "Message delivered to topic_0 [0]\n",
            "Message delivered to topic_0 [0]\n",
            "Message delivered to topic_0 [0]\n",
            "Message delivered to topic_0 [0]\n",
            "Message delivered to topic_0 [0]\n",
            "Message delivered to topic_0 [0]\n",
            "Message delivered to topic_0 [0]\n",
            "Message delivered to topic_0 [0]\n",
            "Message delivered to topic_0 [4]\n",
            "Message delivered to topic_0 [4]\n",
            "Message delivered to topic_0 [4]\n",
            "Message delivered to topic_0 [4]\n",
            "Message delivered to topic_0 [4]\n",
            "Message delivered to topic_0 [4]\n",
            "Message delivered to topic_0 [4]\n",
            "Message delivered to topic_0 [4]\n",
            "Message delivered to topic_0 [4]\n",
            "Message delivered to topic_0 [4]\n",
            "Message delivered to topic_0 [4]\n",
            "Message delivered to topic_0 [4]\n",
            "Message delivered to topic_0 [4]\n",
            "Message delivered to topic_0 [4]\n",
            "Message delivered to topic_0 [4]\n",
            "Message delivered to topic_0 [4]\n",
            "Message delivered to topic_0 [4]\n",
            "Message delivered to topic_0 [4]\n",
            "Message delivered to topic_0 [1]\n",
            "Message delivered to topic_0 [1]\n",
            "Message delivered to topic_0 [1]\n",
            "Message delivered to topic_0 [1]\n",
            "Message delivered to topic_0 [1]\n",
            "Message delivered to topic_0 [1]\n",
            "Message delivered to topic_0 [1]\n",
            "Message delivered to topic_0 [1]\n",
            "Message delivered to topic_0 [1]\n",
            "Message delivered to topic_0 [1]\n",
            "Message delivered to topic_0 [1]\n",
            "Message delivered to topic_0 [1]\n",
            "Message delivered to topic_0 [1]\n",
            "Message delivered to topic_0 [1]\n",
            "Message delivered to topic_0 [1]\n",
            "Message delivered to topic_0 [1]\n",
            "Message delivered to topic_0 [5]\n",
            "Message delivered to topic_0 [5]\n",
            "Message delivered to topic_0 [5]\n",
            "Message delivered to topic_0 [5]\n",
            "Message delivered to topic_0 [5]\n",
            "Message delivered to topic_0 [5]\n",
            "Message delivered to topic_0 [5]\n",
            "Message delivered to topic_0 [5]\n",
            "Message delivered to topic_0 [5]\n",
            "Message delivered to topic_0 [5]\n",
            "Message delivered to topic_0 [5]\n",
            "Message delivered to topic_0 [5]\n",
            "Message delivered to topic_0 [5]\n",
            "Message delivered to topic_0 [5]\n",
            "Message delivered to topic_0 [5]\n",
            "Message delivered to topic_0 [5]\n",
            "Message delivered to topic_0 [5]\n",
            "Message delivered to topic_0 [5]\n",
            "Message delivered to topic_0 [5]\n",
            "Message delivered to topic_0 [3]\n",
            "Message delivered to topic_0 [3]\n",
            "Message delivered to topic_0 [3]\n",
            "Message delivered to topic_0 [3]\n",
            "Message delivered to topic_0 [3]\n",
            "Message delivered to topic_0 [3]\n",
            "Message delivered to topic_0 [3]\n",
            "Message delivered to topic_0 [3]\n",
            "Message delivered to topic_0 [3]\n",
            "Message delivered to topic_0 [3]\n",
            "Message delivered to topic_0 [3]\n",
            "Message delivered to topic_0 [3]\n",
            "Message delivered to topic_0 [3]\n",
            "All messages sent successfully.\n"
          ]
        }
      ],
      "source": [
        "# prompt: Give me the kafka code to send the records in first_100_customers.csv to my kafka topic\n",
        "\n",
        "from confluent_kafka import Producer\n",
        "import csv\n",
        "\n",
        "# Assuming 'first_100_customers.csv' is in the current directory\n",
        "csv_file_path = 'first_100_customers.csv'\n",
        "\n",
        "conf = {\n",
        "    'bootstrap.servers': 'pkc-619z3.us-east1.gcp.confluent.cloud:9092',\n",
        "    'security.protocol': 'SASL_SSL',\n",
        "    'sasl.mechanisms': 'PLAIN',\n",
        "    'sasl.username': 'BVDQLUUYCEQ2B36K',\n",
        "    'sasl.password': 'wKsvL2/e4Vu260owTCH8+z2f6BbRp6K5ylPPgXHNXwPtrNGpFYWh7nOtJ8PmsRnx',\n",
        "}\n",
        "\n",
        "producer = Producer(conf)\n",
        "\n",
        "def delivery_report(err, msg):\n",
        "    if err is not None:\n",
        "        print(f\"Message delivery failed: {err}\")\n",
        "    else:\n",
        "        print(f\"Message delivered to {msg.topic()} [{msg.partition()}]\")\n",
        "\n",
        "topic = \"topic_0\"  # Replace with your topic name\n",
        "\n",
        "try:\n",
        "    with open(csv_file_path, 'r') as file:\n",
        "        reader = csv.DictReader(file)  # Assuming the CSV has a header row\n",
        "        for row in reader:\n",
        "            # Convert the row (dictionary) to a string or JSON\n",
        "            message = str(row) # Or json.dumps(row) if you prefer JSON format\n",
        "            producer.produce(topic, message.encode('utf-8'), callback=delivery_report)\n",
        "            producer.poll(0)  # Handle delivery reports\n",
        "\n",
        "    producer.flush()\n",
        "    print(\"All messages sent successfully.\")\n",
        "\n",
        "except FileNotFoundError:\n",
        "    print(f\"Error: File '{csv_file_path}' not found.\")\n",
        "except Exception as e:\n",
        "    print(f\"An error occurred: {e}\")\n"
      ]
    },
    {
      "cell_type": "code",
      "execution_count": null,
      "metadata": {
        "id": "hTuQH6FStv9m"
      },
      "outputs": [],
      "source": [
        "#send videos via kafka"
      ]
    }
  ],
  "metadata": {
    "colab": {
      "provenance": [],
      "authorship_tag": "ABX9TyN0EchMZRoOc5XFYhQQrnRu",
      "include_colab_link": true
    },
    "kernelspec": {
      "display_name": "Python 3",
      "name": "python3"
    },
    "language_info": {
      "name": "python"
    }
  },
  "nbformat": 4,
  "nbformat_minor": 0
}